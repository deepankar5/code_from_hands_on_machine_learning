{
  "nbformat": 4,
  "nbformat_minor": 0,
  "metadata": {
    "colab": {
      "name": "multi_calsification.ipynb",
      "provenance": [],
      "collapsed_sections": [],
      "authorship_tag": "ABX9TyMnHaGcMh7a3l9f4aFCsiCh",
      "include_colab_link": true
    },
    "kernelspec": {
      "name": "python3",
      "display_name": "Python 3"
    },
    "accelerator": "GPU"
  },
  "cells": [
    {
      "cell_type": "markdown",
      "metadata": {
        "id": "view-in-github",
        "colab_type": "text"
      },
      "source": [
        "<a href=\"https://colab.research.google.com/github/deepankar5/code_from_hands_on_machine_learning/blob/main/multi_calsification.ipynb\" target=\"_parent\"><img src=\"https://colab.research.google.com/assets/colab-badge.svg\" alt=\"Open In Colab\"/></a>"
      ]
    },
    {
      "cell_type": "code",
      "metadata": {
        "colab": {
          "base_uri": "https://localhost:8080/"
        },
        "id": "OtFothmMcPff",
        "outputId": "f06d9e52-c65e-48fa-9d75-1ff8cb138dfc"
      },
      "source": [
        "from sklearn.datasets import fetch_openml\n",
        "mnist = fetch_openml('mnist_784', version=1)\n",
        "mnist.keys()"
      ],
      "execution_count": 1,
      "outputs": [
        {
          "output_type": "execute_result",
          "data": {
            "text/plain": [
              "dict_keys(['data', 'target', 'frame', 'feature_names', 'target_names', 'DESCR', 'details', 'categories', 'url'])"
            ]
          },
          "metadata": {
            "tags": []
          },
          "execution_count": 1
        }
      ]
    },
    {
      "cell_type": "code",
      "metadata": {
        "id": "C1uXQrNGcTaN"
      },
      "source": [
        "X,y = mnist['data'], mnist['target']\n"
      ],
      "execution_count": 4,
      "outputs": []
    },
    {
      "cell_type": "code",
      "metadata": {
        "id": "dMhGRo4gcb74"
      },
      "source": [
        "X_train, y_train, X_test, y_test = X[:60000], y[:60000], X[60000:], y[60000:]\n"
      ],
      "execution_count": 5,
      "outputs": []
    },
    {
      "cell_type": "code",
      "metadata": {
        "colab": {
          "base_uri": "https://localhost:8080/"
        },
        "id": "ZYQzUbHRcsEu",
        "outputId": "b1e46ddb-3fed-40e0-89b3-b47910db8cbd"
      },
      "source": [
        "from sklearn.ensemble import RandomForestClassifier\n",
        "from sklearn.neighbors import KNeighborsClassifier\n",
        "from joblib import parallel_backend\n",
        "from sklearn.model_selection import cross_val_score\n",
        "import time\n",
        "\n",
        "ran_forest_cal = RandomForestClassifier(n_jobs= -1)\n",
        "kneg_cal = KNeighborsClassifier(n_jobs= -1)\n",
        "\n",
        "ran_for_scores = cross_val_score(ran_forest_cal, X_train, y_train, cv=3, scoring = 'accuracy')\n",
        "kneg_scores = cross_val_score(kneg_cal, X_train, y_train, cv=3, scoring = 'accuracy')\n",
        "\n",
        "print('diff in ran_for_score: ' , ran_for_scores.max() - ran_for_scores.max())\n",
        "print('diff in kneg_for_score: ' , kneg_scores.max() - kneg_scores.max())\n"
      ],
      "execution_count": 6,
      "outputs": [
        {
          "output_type": "stream",
          "text": [
            "diff in ran_for_score:  0.0\n",
            "diff in kneg_for_score:  0.0\n"
          ],
          "name": "stdout"
        }
      ]
    },
    {
      "cell_type": "code",
      "metadata": {
        "id": "bbZ0NR2_CT2C"
      },
      "source": [
        "from sklearn.model_selection import GridSearchCV\n",
        "params = {\n",
        "    'n_neighbors': [1,3,7,9,10,13,15],\n",
        "    'weights': ['uniform', 'distance'],\n",
        "}\n",
        "\n",
        "grid_search = GridSearchCV(kneg_cal, params, cv=5,scoring='accuracy',return_train_score=True)\n",
        "grid_search.fit(X_train, y_train)"
      ],
      "execution_count": null,
      "outputs": []
    },
    {
      "cell_type": "code",
      "metadata": {
        "colab": {
          "base_uri": "https://localhost:8080/",
          "height": 164
        },
        "id": "swhtrwsHCfs3",
        "outputId": "bec9b2e4-da3f-4d6e-d4fd-7a19d5dafa31"
      },
      "source": [
        "grid_search."
      ],
      "execution_count": 12,
      "outputs": [
        {
          "output_type": "error",
          "ename": "AttributeError",
          "evalue": "ignored",
          "traceback": [
            "\u001b[0;31m---------------------------------------------------------------------------\u001b[0m",
            "\u001b[0;31mAttributeError\u001b[0m                            Traceback (most recent call last)",
            "\u001b[0;32m<ipython-input-12-5a78bedd53f4>\u001b[0m in \u001b[0;36m<module>\u001b[0;34m()\u001b[0m\n\u001b[0;32m----> 1\u001b[0;31m \u001b[0mgrid_search\u001b[0m\u001b[0;34m.\u001b[0m\u001b[0mkeys\u001b[0m\u001b[0;34m(\u001b[0m\u001b[0;34m)\u001b[0m\u001b[0;34m\u001b[0m\u001b[0;34m\u001b[0m\u001b[0m\n\u001b[0m",
            "\u001b[0;31mAttributeError\u001b[0m: 'GridSearchCV' object has no attribute 'keys'"
          ]
        }
      ]
    },
    {
      "cell_type": "code",
      "metadata": {
        "id": "O8QaKugcFcYr"
      },
      "source": [
        ""
      ],
      "execution_count": null,
      "outputs": []
    }
  ]
}