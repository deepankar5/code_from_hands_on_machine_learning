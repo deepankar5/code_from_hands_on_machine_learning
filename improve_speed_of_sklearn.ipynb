{
 "cells": [
  {
   "cell_type": "code",
   "execution_count": 7,
   "metadata": {},
   "outputs": [
    {
     "name": "stdout",
     "output_type": "stream",
     "text": [
      "Fitting 10 folds for each of 105 candidates, totalling 1050 fits\n"
     ]
    },
    {
     "name": "stderr",
     "output_type": "stream",
     "text": [
      "[Parallel(n_jobs=-1)]: Using backend ThreadingBackend with 8 concurrent workers.\n",
      "[Parallel(n_jobs=-1)]: Done  34 tasks      | elapsed:    2.3s\n",
      "[Parallel(n_jobs=-1)]: Done 184 tasks      | elapsed:    9.8s\n",
      "[Parallel(n_jobs=-1)]: Done 434 tasks      | elapsed:   21.1s\n",
      "[Parallel(n_jobs=-1)]: Done 784 tasks      | elapsed:   34.8s\n"
     ]
    },
    {
     "name": "stdout",
     "output_type": "stream",
     "text": [
      "Train time: 45.20198202133179\n",
      "Best score: 0.9816360601001669\n"
     ]
    },
    {
     "name": "stderr",
     "output_type": "stream",
     "text": [
      "[Parallel(n_jobs=-1)]: Done 1050 out of 1050 | elapsed:   45.0s finished\n",
      "/Users/deepankar/opt/anaconda3/envs/tf2/lib/python3.7/site-packages/sklearn/model_selection/_search.py:814: DeprecationWarning: The default of the `iid` parameter will change from True to False in version 0.22 and will be removed in 0.24. This will change numeric results when test-set sizes are unequal.\n",
      "  DeprecationWarning)\n"
     ]
    }
   ],
   "source": [
    "import time\n",
    "from sklearn import datasets, svm\n",
    "from sklearn.model_selection import GridSearchCV\n",
    "from joblib import parallel_backend\n",
    "\n",
    "# the digits dataset\n",
    "digits = datasets.load_digits()\n",
    "X = digits[\"data\"]\n",
    "y = digits[\"target\"] \n",
    "# create a classifier: a support vector classifier\n",
    "classifier = svm.SVC()\n",
    "param_grid = {\n",
    "    \"C\": [0.01, 0.01, 0.1, 1.0, 10.0, 20.0, 50.0], \n",
    "    \"gamma\": [\"scale\", \"auto\", 0.001, 0.01, 0.1], \n",
    "    \"kernel\": [\"rbf\", \"poly\", \"sigmoid\"]\n",
    "    }\n",
    "scoring = \"accuracy\"\n",
    "cv = 10\n",
    "# hyperparameter optimization\n",
    "start = time.time()\n",
    "model = GridSearchCV(    \n",
    "    classifier, param_grid,     \n",
    "    cv=cv, scoring=scoring,\n",
    "    verbose= 1    \n",
    "    )\n",
    "\n",
    "with parallel_backend('threading', n_jobs=-1):\n",
    "    # Train the model\n",
    "    model.fit(X,y)\n",
    "    \n",
    "\n",
    "print(\"Train time: {0}\".format(time.time() - start))\n",
    "print(\"Best score: {0}\".format(model.best_score_))\n"
   ]
  },
  {
   "cell_type": "code",
   "execution_count": 8,
   "metadata": {},
   "outputs": [
    {
     "name": "stdout",
     "output_type": "stream",
     "text": [
      "Fitting 10 folds for each of 105 candidates, totalling 1050 fits\n"
     ]
    },
    {
     "name": "stderr",
     "output_type": "stream",
     "text": [
      "[Parallel(n_jobs=1)]: Using backend SequentialBackend with 1 concurrent workers.\n"
     ]
    },
    {
     "name": "stdout",
     "output_type": "stream",
     "text": [
      "Train time: 223.76824712753296\n",
      "Best score: 0.9816360601001669\n"
     ]
    },
    {
     "name": "stderr",
     "output_type": "stream",
     "text": [
      "[Parallel(n_jobs=1)]: Done 1050 out of 1050 | elapsed:  3.7min finished\n",
      "/Users/deepankar/opt/anaconda3/envs/tf2/lib/python3.7/site-packages/sklearn/model_selection/_search.py:814: DeprecationWarning: The default of the `iid` parameter will change from True to False in version 0.22 and will be removed in 0.24. This will change numeric results when test-set sizes are unequal.\n",
      "  DeprecationWarning)\n"
     ]
    }
   ],
   "source": [
    "import time\n",
    "from sklearn import datasets, svm\n",
    "from sklearn.model_selection import GridSearchCV\n",
    "from joblib import parallel_backend\n",
    "\n",
    "# the digits dataset\n",
    "digits = datasets.load_digits()\n",
    "X = digits[\"data\"]\n",
    "y = digits[\"target\"] \n",
    "# create a classifier: a support vector classifier\n",
    "classifier = svm.SVC()\n",
    "param_grid = {\n",
    "    \"C\": [0.01, 0.01, 0.1, 1.0, 10.0, 20.0, 50.0], \n",
    "    \"gamma\": [\"scale\", \"auto\", 0.001, 0.01, 0.1], \n",
    "    \"kernel\": [\"rbf\", \"poly\", \"sigmoid\"]\n",
    "    }\n",
    "scoring = \"accuracy\"\n",
    "cv = 10\n",
    "# hyperparameter optimization\n",
    "start = time.time()\n",
    "model = GridSearchCV(    \n",
    "    classifier, param_grid,     \n",
    "    cv=cv, scoring=scoring,\n",
    "    verbose= 1    \n",
    "    )\n",
    "\n",
    "\n",
    "# Train the model\n",
    "model.fit(X,y)\n",
    "    \n",
    "\n",
    "print(\"Train time: {0}\".format(time.time() - start))\n",
    "print(\"Best score: {0}\".format(model.best_score_))\n"
   ]
  },
  {
   "cell_type": "code",
   "execution_count": 3,
   "metadata": {},
   "outputs": [
    {
     "ename": "ModuleNotFoundError",
     "evalue": "No module named 'pyspark'",
     "output_type": "error",
     "traceback": [
      "\u001b[0;31m---------------------------------------------------------------------------\u001b[0m",
      "\u001b[0;31mModuleNotFoundError\u001b[0m                       Traceback (most recent call last)",
      "\u001b[0;32m<ipython-input-3-1199ae675115>\u001b[0m in \u001b[0;36m<module>\u001b[0;34m\u001b[0m\n\u001b[0;32m----> 1\u001b[0;31m \u001b[0;32mfrom\u001b[0m \u001b[0mpyspark\u001b[0m\u001b[0;34m.\u001b[0m\u001b[0msql\u001b[0m \u001b[0;32mimport\u001b[0m \u001b[0mSparkSession\u001b[0m\u001b[0;34m\u001b[0m\u001b[0;34m\u001b[0m\u001b[0m\n\u001b[0m",
      "\u001b[0;31mModuleNotFoundError\u001b[0m: No module named 'pyspark'"
     ]
    }
   ],
   "source": []
  },
  {
   "cell_type": "code",
   "execution_count": null,
   "metadata": {},
   "outputs": [],
   "source": []
  }
 ],
 "metadata": {
  "kernelspec": {
   "display_name": "Python 3",
   "language": "python",
   "name": "python3"
  },
  "language_info": {
   "codemirror_mode": {
    "name": "ipython",
    "version": 3
   },
   "file_extension": ".py",
   "mimetype": "text/x-python",
   "name": "python",
   "nbconvert_exporter": "python",
   "pygments_lexer": "ipython3",
   "version": "3.7.9"
  }
 },
 "nbformat": 4,
 "nbformat_minor": 4
}
